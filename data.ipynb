{
 "cells": [
  {
   "cell_type": "code",
   "execution_count": null,
   "metadata": {},
   "outputs": [],
   "source": [
    "# Step 1: Import Pandas\n",
    "import pandas as pd\n",
    "\n",
    "# Step 2: Load the CSV file\n",
    "df = pd.read_csv('users_data.csv')\n",
    "\n",
    "# Step 3: Display the first 5 rows of the DataFrame\n",
    "df.head()\n"
   ]
  }
 ],
 "metadata": {
  "language_info": {
   "name": "python"
  }
 },
 "nbformat": 4,
 "nbformat_minor": 2
}
